# EDA.ipynb
# Import required libraries
import pandas as pd
import matplotlib.pyplot as plt
import seaborn as sns
from wordcloud import WordCloud

# Load datasets
resume_data = pd.read_csv("data/Resume_Data.csv")
job_data = pd.read_csv("data/Job_Descriptions.csv")

# Inspect datasets
print("Resume Data Overview:")
print(resume_data.head())
print("\nJob Description Data Overview:")
print(job_data.head())

# Check for missing values
print("\nMissing values in Resume Data:")
print(resume_data.isnull().sum())
print("\nMissing values in Job Description Data:")
print(job_data.isnull().sum())

# Resume categories distribution
plt.figure(figsize=(10, 6))
sns.countplot(data=resume_data, x="Category", order=resume_data["Category"].value_counts().index)
plt.title("Distribution of Resume Categories")
plt.xlabel("Job Role")
plt.ylabel("Count")
plt.xticks(rotation=45)
plt.tight_layout()
plt.show()

# WordCloud for Resume Text
resume_text = " ".join(resume_data["Resume_Text"])
resume_wordcloud = WordCloud(width=800, height=400, background_color="white").generate(resume_text)
plt.figure(figsize=(10, 6))
plt.imshow(resume_wordcloud, interpolation="bilinear")
plt.axis("off")
plt.title("WordCloud for Resume Text")
plt.show()

# WordCloud for Job Descriptions
job_text = " ".join(job_data["Job_Description"])
job_wordcloud = WordCloud(width=800, height=400, background_color="white").generate(job_text)
plt.figure(figsize=(10, 6))
plt.imshow(job_wordcloud, interpolation="bilinear")
plt.axis("off")
plt.title("WordCloud for Job Descriptions")
plt.show()

# Length of resumes and job descriptions
resume_data["Resume_Length"] = resume_data["Resume_Text"].apply(len)
job_data["Job_Description_Length"] = job_data["Job_Description"].apply(len)

plt.figure(figsize=(12, 6))
sns.histplot(resume_data["Resume_Length"], kde=True, bins=30, color="blue", label="Resume Length")
sns.histplot(job_data["Job_Description_Length"], kde=True, bins=30, color="orange", label="Job Description Length")
plt.legend()
plt.title("Distribution of Text Lengths")
plt.xlabel("Length")
plt.ylabel("Frequency")
plt.show()