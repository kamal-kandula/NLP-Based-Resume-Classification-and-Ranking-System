# Model_Training.ipynb
# Import libraries
import pandas as pd
from sklearn.feature_extraction.text import TfidfVectorizer
from sklearn.ensemble import RandomForestClassifier
from sklearn.linear_model import LogisticRegression
from sklearn.svm import SVC
from xgboost import XGBClassifier
from sklearn.model_selection import train_test_split
from sklearn.metrics import classification_report
from sklearn.metrics import accuracy_score
import matplotlib.pyplot as plt
import seaborn as sns

# Load dataset
data = pd.read_csv("data/Resume_Data.csv")

# Preprocess dataset
from src.preprocessing import NLPPreprocessor
preprocessor = NLPPreprocessor()
data["Processed_Text"] = data["Resume_Text"].apply(preprocessor.preprocess_text)

# Train-test split
X = data["Processed_Text"]
y = data["Category"]
X_train, X_test, y_train, y_test = train_test_split(X, y, test_size=0.2, random_state=42)

# TF-IDF vectorization
vectorizer = TfidfVectorizer(max_features=5000)
X_train_vec = vectorizer.fit_transform(X_train)
X_test_vec = vectorizer.transform(X_test)

# Define models
models = {
    "Random Forest": RandomForestClassifier(n_estimators=100, random_state=42),
    "Logistic Regression": LogisticRegression(max_iter=1000, random_state=42),
    "Support Vector Machine": SVC(kernel="linear", random_state=42),
    "XGBoost": XGBClassifier(use_label_encoder=False, eval_metric="mlogloss", random_state=42),
}

# Train and evaluate models
model_scores = []
for model_name, model in models.items():
    print(f"Training {model_name}...")
    model.fit(X_train_vec, y_train)
    y_pred = model.predict(X_test_vec)
    accuracy = accuracy_score(y_test, y_pred)
    model_scores.append({"Model": model_name, "Accuracy": accuracy})
    print(f"Classification Report for {model_name}:\n")
    print(classification_report(y_test, y_pred))

# Visualize model performance
model_scores_df = pd.DataFrame(model_scores)
plt.figure(figsize=(10, 6))
sns.barplot(data=model_scores_df, x="Model", y="Accuracy", palette="viridis")
plt.title("Model Performance Comparison")
plt.ylabel("Accuracy")
plt.xlabel("Model")
plt.xticks(rotation=45)
plt.tight_layout()
plt.show()
